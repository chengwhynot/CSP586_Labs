{
 "cells": [
  {
   "cell_type": "raw",
   "id": "17546ebb",
   "metadata": {
    "vscode": {
     "languageId": "raw"
    }
   },
   "source": [
    "---\n",
    "keywords: [agent, agents]\n",
    "---"
   ]
  },
  {
   "cell_type": "markdown",
   "id": "1df78a71",
   "metadata": {},
   "source": [
    "# Build an Agent\n",
    "\n",
    "By themselves, language models can't take actions - they just output text.\n",
    "A big use case for LangChain is creating **agents**.\n",
    "[Agents](/docs/concepts/agents) are systems that use [LLMs](/docs/concepts/chat_models) as reasoning engines to determine which actions to take and the inputs necessary to perform the action.\n",
    "After executing actions, the results can be fed back into the LLM to determine whether more actions are needed, or whether it is okay to finish. This is often achieved via [tool-calling](/docs/concepts/tool_calling).\n",
    "\n",
    "In this tutorial we will build an agent that can interact with a search engine. You will be able to ask this agent questions, watch it call the search tool, and have conversations with it.\n",
    "\n",
    "## End-to-end agent\n",
    "\n",
    "The code snippet below represents a fully functional agent that uses an LLM to decide which tools to use. It is equipped with a generic search tool. It has conversational memory - meaning that it can be used as a multi-turn chatbot.\n",
    "\n",
    "In the rest of the guide, we will walk through the individual components and what each part does - but if you want to just grab some code and get started, feel free to use this!"
   ]
  },
  {
   "cell_type": "code",
   "execution_count": 34,
   "id": "1ced0a86",
   "metadata": {},
   "outputs": [],
   "source": [
    "import os\n",
    "from dotenv import load_dotenv\n",
    "\n",
    "load_dotenv()\n",
    "os.environ[\"http_proxy\"]=\"\"\n",
    "os.environ[\"https_proxy\"]=\"\"\n"
   ]
  },
  {
   "cell_type": "code",
   "execution_count": 35,
   "id": "a79bb782",
   "metadata": {},
   "outputs": [
    {
     "name": "stdout",
     "output_type": "stream",
     "text": [
      "{'agent': {'messages': [AIMessage(content=\"Hi Cheng! It's great to meet you! How's everything in Beijing?\", additional_kwargs={'refusal': None}, response_metadata={'token_usage': {'completion_tokens': 16, 'prompt_tokens': 88, 'total_tokens': 104, 'completion_tokens_details': {'accepted_prediction_tokens': 0, 'audio_tokens': 0, 'reasoning_tokens': 0, 'rejected_prediction_tokens': 0}, 'prompt_tokens_details': {'audio_tokens': 0, 'cached_tokens': 0}}, 'model_name': 'gpt-4o-mini', 'system_fingerprint': 'fp_f3927aa00d', 'finish_reason': 'stop', 'logprobs': None}, id='run-79266991-00e8-4152-a868-124ab2050885-0', usage_metadata={'input_tokens': 88, 'output_tokens': 16, 'total_tokens': 104, 'input_token_details': {'audio': 0, 'cache_read': 0}, 'output_token_details': {'audio': 0, 'reasoning': 0}})]}}\n",
      "----\n",
      "{'agent': {'messages': [AIMessage(content='', additional_kwargs={'tool_calls': [{'id': 'call_29h6uLyrhUvtUel2L6dyF2vo', 'function': {'arguments': '{\"query\":\"current weather in Beijing\"}', 'name': 'tavily_search_results_json'}, 'type': 'function'}], 'refusal': None}, response_metadata={'token_usage': {'completion_tokens': 21, 'prompt_tokens': 119, 'total_tokens': 140, 'completion_tokens_details': {'accepted_prediction_tokens': 0, 'audio_tokens': 0, 'reasoning_tokens': 0, 'rejected_prediction_tokens': 0}, 'prompt_tokens_details': {'audio_tokens': 0, 'cached_tokens': 0}}, 'model_name': 'gpt-4o-mini', 'system_fingerprint': 'fp_5154047bf2', 'finish_reason': 'tool_calls', 'logprobs': None}, id='run-ae51cc35-881e-4c1d-a023-a4037a95f3aa-0', tool_calls=[{'name': 'tavily_search_results_json', 'args': {'query': 'current weather in Beijing'}, 'id': 'call_29h6uLyrhUvtUel2L6dyF2vo', 'type': 'tool_call'}], usage_metadata={'input_tokens': 119, 'output_tokens': 21, 'total_tokens': 140, 'input_token_details': {'audio': 0, 'cache_read': 0}, 'output_token_details': {'audio': 0, 'reasoning': 0}})]}}\n",
      "----\n",
      "{'tools': {'messages': [ToolMessage(content='[{\"url\": \"https://www.weatherapi.com/\", \"content\": \"{\\'location\\': {\\'name\\': \\'Beijing\\', \\'region\\': \\'Beijing\\', \\'country\\': \\'China\\', \\'lat\\': 39.9289, \\'lon\\': 116.3883, \\'tz_id\\': \\'Asia/Shanghai\\', \\'localtime_epoch\\': 1739114093, \\'localtime\\': \\'2025-02-09 23:14\\'}, \\'current\\': {\\'last_updated_epoch\\': 1739113200, \\'last_updated\\': \\'2025-02-09 23:00\\', \\'temp_c\\': -8.9, \\'temp_f\\': 16.0, \\'is_day\\': 0, \\'condition\\': {\\'text\\': \\'Clear\\', \\'icon\\': \\'//cdn.weatherapi.com/weather/64x64/night/113.png\\', \\'code\\': 1000}, \\'wind_mph\\': 2.2, \\'wind_kph\\': 3.6, \\'wind_degree\\': 237, \\'wind_dir\\': \\'WSW\\', \\'pressure_mb\\': 1026.0, \\'pressure_in\\': 30.3, \\'precip_mm\\': 0.0, \\'precip_in\\': 0.0, \\'humidity\\': 37, \\'cloud\\': 0, \\'feelslike_c\\': -10.7, \\'feelslike_f\\': 12.7, \\'windchill_c\\': -4.3, \\'windchill_f\\': 24.3, \\'heatindex_c\\': -4.3, \\'heatindex_f\\': 24.3, \\'dewpoint_c\\': -25.3, \\'dewpoint_f\\': -13.6, \\'vis_km\\': 10.0, \\'vis_miles\\': 6.0, \\'uv\\': 0.0, \\'gust_mph\\': 6.7, \\'gust_kph\\': 10.8}}\"}, {\"url\": \"https://www.weather25.com/asia/china/shanxi/beijing?page=month&month=February\", \"content\": \"Beijing weather in February 2025 | Beijing 14 day weather Beijing  Beijing Beijing weather in February 2025 🌨️ Snowy days in Beijing 2025 (February) The average weather in Beijing in February You can expect a few days of snow in Beijing during February. | Beijing in February | | Beijing in May | Temperatures in Beijing in February Weather in Beijing in February - FAQ The average temperature in Beijing in February is -3/5° C. On average, there are 1 rainy days in Beijing during February. The weather in Beijing in February is awful. On average, there are 3 snowy days in Beijing in February. More about the weather in Beijing\"}]', name='tavily_search_results_json', id='ed0c2985-cce6-4e4f-a700-d25f4c73d27e', tool_call_id='call_29h6uLyrhUvtUel2L6dyF2vo', artifact={'query': 'current weather in Beijing', 'follow_up_questions': None, 'answer': None, 'images': [], 'results': [{'title': 'Weather in Beijing', 'url': 'https://www.weatherapi.com/', 'content': \"{'location': {'name': 'Beijing', 'region': 'Beijing', 'country': 'China', 'lat': 39.9289, 'lon': 116.3883, 'tz_id': 'Asia/Shanghai', 'localtime_epoch': 1739114093, 'localtime': '2025-02-09 23:14'}, 'current': {'last_updated_epoch': 1739113200, 'last_updated': '2025-02-09 23:00', 'temp_c': -8.9, 'temp_f': 16.0, 'is_day': 0, 'condition': {'text': 'Clear', 'icon': '//cdn.weatherapi.com/weather/64x64/night/113.png', 'code': 1000}, 'wind_mph': 2.2, 'wind_kph': 3.6, 'wind_degree': 237, 'wind_dir': 'WSW', 'pressure_mb': 1026.0, 'pressure_in': 30.3, 'precip_mm': 0.0, 'precip_in': 0.0, 'humidity': 37, 'cloud': 0, 'feelslike_c': -10.7, 'feelslike_f': 12.7, 'windchill_c': -4.3, 'windchill_f': 24.3, 'heatindex_c': -4.3, 'heatindex_f': 24.3, 'dewpoint_c': -25.3, 'dewpoint_f': -13.6, 'vis_km': 10.0, 'vis_miles': 6.0, 'uv': 0.0, 'gust_mph': 6.7, 'gust_kph': 10.8}}\", 'score': 0.8759609, 'raw_content': None}, {'url': 'https://www.weather25.com/asia/china/shanxi/beijing?page=month&month=February', 'title': 'Beijing weather in February 2025 - Weather25.com', 'content': 'Beijing weather in February 2025 | Beijing 14 day weather Beijing  Beijing Beijing weather in February 2025 🌨️ Snowy days in Beijing 2025 (February) The average weather in Beijing in February You can expect a few days of snow in Beijing during February. | Beijing in February | | Beijing in May | Temperatures in Beijing in February Weather in Beijing in February - FAQ The average temperature in Beijing in February is -3/5° C. On average, there are 1 rainy days in Beijing during February. The weather in Beijing in February is awful. On average, there are 3 snowy days in Beijing in February. More about the weather in Beijing', 'score': 0.8660535, 'raw_content': None}], 'response_time': 1.38})]}}\n",
      "----\n",
      "{'agent': {'messages': [AIMessage(content=\"Currently, the weather in Beijing is clear with a temperature of approximately -8.9°C (approximately 16°F). It's nighttime, and the wind is blowing from the west-southwest at about 3.6 kph. The humidity level is around 37%, and there is no precipitation expected.\\n\\nIf you'd like to know more or check the weather forecast for the upcoming days, you can visit [WeatherAPI](https://www.weatherapi.com/) or other weather sites.\", additional_kwargs={'refusal': None}, response_metadata={'token_usage': {'completion_tokens': 98, 'prompt_tokens': 725, 'total_tokens': 823, 'completion_tokens_details': {'accepted_prediction_tokens': 0, 'audio_tokens': 0, 'reasoning_tokens': 0, 'rejected_prediction_tokens': 0}, 'prompt_tokens_details': {'audio_tokens': 0, 'cached_tokens': 0}}, 'model_name': 'gpt-4o-mini', 'system_fingerprint': 'fp_f3927aa00d', 'finish_reason': 'stop', 'logprobs': None}, id='run-c6c4f951-aa7b-49de-881f-f03d47045bdc-0', usage_metadata={'input_tokens': 725, 'output_tokens': 98, 'total_tokens': 823, 'input_token_details': {'audio': 0, 'cache_read': 0}, 'output_token_details': {'audio': 0, 'reasoning': 0}})]}}\n",
      "----\n"
     ]
    }
   ],
   "source": [
    "# Import relevant functionality\n",
    "#from langchain_anthropic import ChatAnthropic\n",
    "from langchain_openai import ChatOpenAI\n",
    "\n",
    "from langchain_community.tools.tavily_search import TavilySearchResults\n",
    "from langchain_core.messages import HumanMessage\n",
    "from langgraph.checkpoint.memory import MemorySaver\n",
    "from langgraph.prebuilt import create_react_agent\n",
    "\n",
    "# Create the agent\n",
    "memory = MemorySaver()\n",
    "\n",
    "#model = ChatAnthropic(model_name=\"claude-3-sonnet-20240229\")\n",
    "model = ChatOpenAI(model=\"gpt-4o-mini\")\n",
    "\n",
    "\n",
    "search = TavilySearchResults(max_results=2)\n",
    "tools = [search]\n",
    "agent_executor = create_react_agent(model, tools, checkpointer=memory)\n",
    "\n",
    "# Use the agent\n",
    "config = {\"configurable\": {\"thread_id\": \"abc123\"}}\n",
    "for chunk in agent_executor.stream(\n",
    "    {\"messages\": [HumanMessage(content=\"hi im Cheng! and i live in Beijing\")]}, config\n",
    "):\n",
    "    print(chunk)\n",
    "    print(\"----\")\n",
    "\n",
    "for chunk in agent_executor.stream(\n",
    "    {\"messages\": [HumanMessage(content=\"whats the weather where I live?\")]}, config\n",
    "):\n",
    "    print(chunk)\n",
    "    print(\"----\")"
   ]
  },
  {
   "cell_type": "markdown",
   "id": "f4c03f40-1328-412d-8a48-1db0cd481b77",
   "metadata": {},
   "source": [
    "## Setup\n",
    "\n",
    "### Jupyter Notebook\n",
    "\n",
    "This guide (and most of the other guides in the documentation) uses [Jupyter notebooks](https://jupyter.org/) and assumes the reader is as well. Jupyter notebooks are perfect interactive environments for learning how to work with LLM systems because oftentimes things can go wrong (unexpected output, API down, etc), and observing these cases is a great way to better understand building with LLMs.\n",
    "\n",
    "This and other tutorials are perhaps most conveniently run in a Jupyter notebook. See [here](https://jupyter.org/install) for instructions on how to install.\n",
    "\n",
    "### Installation\n",
    "\n",
    "To install LangChain run:"
   ]
  },
  {
   "cell_type": "code",
   "execution_count": 36,
   "id": "60bb3eb1",
   "metadata": {},
   "outputs": [],
   "source": [
    "# %pip install -U langchain-community langgraph langchain-openai tavily-python langgraph-checkpoint-sqlite"
   ]
  },
  {
   "cell_type": "markdown",
   "id": "2ee337ae",
   "metadata": {},
   "source": [
    "For more details, see our [Installation guide](/docs/how_to/installation).\n",
    "\n",
    "### LangSmith\n",
    "\n",
    "Many of the applications you build with LangChain will contain multiple steps with multiple invocations of LLM calls.\n",
    "As these applications get more and more complex, it becomes crucial to be able to inspect what exactly is going on inside your chain or agent.\n",
    "The best way to do this is with [LangSmith](https://smith.langchain.com).\n",
    "\n",
    "After you sign up at the link above, make sure to set your environment variables to start logging traces:\n",
    "\n",
    "```shell\n",
    "export LANGCHAIN_TRACING_V2=\"true\"\n",
    "export LANGCHAIN_API_KEY=\"...\"\n",
    "```\n",
    "\n",
    "Or, if in a notebook, you can set them with:\n",
    "\n",
    "```python\n",
    "import getpass\n",
    "import os\n",
    "\n",
    "os.environ[\"LANGCHAIN_TRACING_V2\"] = \"true\"\n",
    "os.environ[\"LANGCHAIN_API_KEY\"] = getpass.getpass()\n",
    "```\n",
    "\n",
    "### Tavily\n",
    "\n",
    "We will be using [Tavily](/docs/integrations/tools/tavily_search) (a search engine) as a tool.\n",
    "In order to use it, you will need to get and set an API key:\n",
    "\n",
    "```bash\n",
    "export TAVILY_API_KEY=\"...\"\n",
    "```\n",
    "\n",
    "Or, if in a notebook, you can set it with:\n",
    "\n",
    "```python\n",
    "import getpass\n",
    "import os\n",
    "\n",
    "os.environ[\"TAVILY_API_KEY\"] = getpass.getpass()\n",
    "```"
   ]
  },
  {
   "cell_type": "markdown",
   "id": "c335d1bf",
   "metadata": {},
   "source": [
    "## Define tools\n",
    "\n",
    "We first need to create the tools we want to use. Our main tool of choice will be [Tavily](/docs/integrations/tools/tavily_search) - a search engine. We have a built-in tool in LangChain to easily use Tavily search engine as tool.\n"
   ]
  },
  {
   "cell_type": "code",
   "execution_count": 37,
   "id": "482ce13d",
   "metadata": {},
   "outputs": [
    {
     "name": "stdout",
     "output_type": "stream",
     "text": [
      "[{'url': 'https://www.weatherapi.com/', 'content': \"{'location': {'name': 'Beijing', 'region': 'Beijing', 'country': 'China', 'lat': 39.9289, 'lon': 116.3883, 'tz_id': 'Asia/Shanghai', 'localtime_epoch': 1739114352, 'localtime': '2025-02-09 23:19'}, 'current': {'last_updated_epoch': 1739114100, 'last_updated': '2025-02-09 23:15', 'temp_c': -8.9, 'temp_f': 16.0, 'is_day': 0, 'condition': {'text': 'Clear', 'icon': '//cdn.weatherapi.com/weather/64x64/night/113.png', 'code': 1000}, 'wind_mph': 2.2, 'wind_kph': 3.6, 'wind_degree': 237, 'wind_dir': 'WSW', 'pressure_mb': 1026.0, 'pressure_in': 30.3, 'precip_mm': 0.0, 'precip_in': 0.0, 'humidity': 37, 'cloud': 0, 'feelslike_c': -10.7, 'feelslike_f': 12.7, 'windchill_c': -4.3, 'windchill_f': 24.3, 'heatindex_c': -4.3, 'heatindex_f': 24.3, 'dewpoint_c': -25.3, 'dewpoint_f': -13.6, 'vis_km': 10.0, 'vis_miles': 6.0, 'uv': 0.0, 'gust_mph': 6.7, 'gust_kph': 10.8}}\"}, {'url': 'https://www.meteoprog.com/weather/Beijing/month/february/', 'content': 'Beijing weather in February 2025 ⋆ Beijing temperature in February ≡ Weather forecast in China | METEOPROG Weather in China Weather Widgets Русский (UA) Русский WEATHER 7-day Forecast Weather on a map Weather Widget Русский (UA) Русский 2 Weeks Beijing weather in February 2025 February in Beijing Max. temperature +23°C Min. temperature -24.1°C +1° +7° -3° +4° +17° +17° -3° -4° +4° +3° +18° -1° -14° +17° Weather Weather in China Monthly weather forecast in Beijing Weather in February 2 Weeks Weather Widgets Editorial policy Hyperlink to Meteoprog.com is required when using materials from the site. The editorial staff of the project may not share the opinion of the authors and is not responsible for copyrighted materials. Русский (UA) Русский'}]\n"
     ]
    }
   ],
   "source": [
    "from langchain_community.tools.tavily_search import TavilySearchResults\n",
    "\n",
    "search = TavilySearchResults(max_results=2)\n",
    "search_results = search.invoke(\"what is the weather in Beijing\")\n",
    "print(search_results)\n",
    "# If we want, we can create other tools.\n",
    "# Once we have all the tools we want, we can put them in a list that we will reference later.\n",
    "tools = [search]"
   ]
  },
  {
   "cell_type": "markdown",
   "id": "e00068b0",
   "metadata": {},
   "source": [
    "## Using Language Models\n",
    "\n",
    "Next, let's learn how to use a language model by to call tools. LangChain supports many different language models that you can use interchangably - select the one you want to use below!\n",
    "\n",
    "import ChatModelTabs from \"@theme/ChatModelTabs\";\n",
    "\n",
    "<ChatModelTabs openaiParams={`model=\"gpt-4\"`} />\n"
   ]
  },
  {
   "cell_type": "code",
   "execution_count": 38,
   "id": "69185491",
   "metadata": {},
   "outputs": [],
   "source": [
    "# | output: false\n",
    "# | echo: false\n",
    "\n",
    "#from langchain_anthropic import ChatAnthropic\n",
    "#model = ChatAnthropic(model=\"claude-3-sonnet-20240229\")\n",
    "\n",
    "from langchain_openai import ChatOpenAI\n",
    "model = ChatOpenAI(model=\"gpt-4o-mini\")\n"
   ]
  },
  {
   "cell_type": "markdown",
   "id": "642ed8bf",
   "metadata": {},
   "source": [
    "You can call the language model by passing in a list of messages. By default, the response is a `content` string."
   ]
  },
  {
   "cell_type": "code",
   "execution_count": 39,
   "id": "c96c960b",
   "metadata": {},
   "outputs": [
    {
     "data": {
      "text/plain": [
       "'Hello! How can I assist you today?'"
      ]
     },
     "execution_count": 39,
     "metadata": {},
     "output_type": "execute_result"
    }
   ],
   "source": [
    "from langchain_core.messages import HumanMessage\n",
    "\n",
    "response = model.invoke([HumanMessage(content=\"hi!\")])\n",
    "response.content"
   ]
  },
  {
   "cell_type": "markdown",
   "id": "47bf8210",
   "metadata": {},
   "source": [
    "We can now see what it is like to enable this model to do tool calling. In order to enable that we use `.bind_tools` to give the language model knowledge of these tools"
   ]
  },
  {
   "cell_type": "code",
   "execution_count": 40,
   "id": "ba692a74",
   "metadata": {},
   "outputs": [],
   "source": [
    "model_with_tools = model.bind_tools(tools)"
   ]
  },
  {
   "cell_type": "markdown",
   "id": "fd920b69",
   "metadata": {},
   "source": [
    "We can now call the model. Let's first call it with a normal message, and see how it responds. We can look at both the `content` field as well as the `tool_calls` field."
   ]
  },
  {
   "cell_type": "code",
   "execution_count": 41,
   "id": "b6a7e925",
   "metadata": {},
   "outputs": [
    {
     "name": "stdout",
     "output_type": "stream",
     "text": [
      "ContentString: Hello! How can I assist you today?\n",
      "ToolCalls: []\n"
     ]
    }
   ],
   "source": [
    "response = model_with_tools.invoke([HumanMessage(content=\"Hi!\")])\n",
    "\n",
    "print(f\"ContentString: {response.content}\")\n",
    "print(f\"ToolCalls: {response.tool_calls}\")"
   ]
  },
  {
   "cell_type": "markdown",
   "id": "e8c81e76",
   "metadata": {},
   "source": [
    "Now, let's try calling it with some input that would expect a tool to be called."
   ]
  },
  {
   "cell_type": "code",
   "execution_count": 42,
   "id": "688b465d",
   "metadata": {},
   "outputs": [
    {
     "name": "stdout",
     "output_type": "stream",
     "text": [
      "ContentString: \n",
      "ToolCalls: [{'name': 'tavily_search_results_json', 'args': {'query': 'weather in Beijing'}, 'id': 'call_KBATP74zvb1weUNN7If6Ei4q', 'type': 'tool_call'}]\n"
     ]
    }
   ],
   "source": [
    "response = model_with_tools.invoke([HumanMessage(content=\"What's the weather in Beijing?\")])\n",
    "\n",
    "print(f\"ContentString: {response.content}\")\n",
    "print(f\"ToolCalls: {response.tool_calls}\")"
   ]
  },
  {
   "cell_type": "markdown",
   "id": "83c4bcd3",
   "metadata": {},
   "source": [
    "We can see that there's now no text content, but there is a tool call! It wants us to call the Tavily Search tool.\n",
    "\n",
    "This isn't calling that tool yet - it's just telling us to. In order to actually call it, we'll want to create our agent."
   ]
  },
  {
   "cell_type": "markdown",
   "id": "40ccec80",
   "metadata": {},
   "source": [
    "## Create the agent\n",
    "\n",
    "Now that we have defined the tools and the LLM, we can create the agent. We will be using [LangGraph](/docs/concepts/architecture/#langgraph) to construct the agent. \n",
    "Currently, we are using a high level interface to construct the agent, but the nice thing about LangGraph is that this high-level interface is backed by a low-level, highly controllable API in case you want to modify the agent logic.\n"
   ]
  },
  {
   "cell_type": "markdown",
   "id": "f8014c9d",
   "metadata": {},
   "source": [
    "Now, we can initialize the agent with the LLM and the tools.\n",
    "\n",
    "Note that we are passing in the `model`, not `model_with_tools`. That is because `create_react_agent` will call `.bind_tools` for us under the hood."
   ]
  },
  {
   "cell_type": "code",
   "execution_count": 43,
   "id": "89cf72b4-6046-4b47-8f27-5522d8cb8036",
   "metadata": {},
   "outputs": [],
   "source": [
    "from langgraph.prebuilt import create_react_agent\n",
    "\n",
    "agent_executor = create_react_agent(model, tools)"
   ]
  },
  {
   "cell_type": "markdown",
   "id": "e4df0e06",
   "metadata": {},
   "source": [
    "## Run the agent\n",
    "\n",
    "We can now run the agent with a few queries! Note that for now, these are all **stateless** queries (it won't remember previous interactions). Note that the agent will return the **final** state at the end of the interaction (which includes any inputs, we will see later on how to get only the outputs).\n",
    "\n",
    "First up, let's see how it responds when there's no need to call a tool:"
   ]
  },
  {
   "cell_type": "code",
   "execution_count": 44,
   "id": "114ba50d",
   "metadata": {},
   "outputs": [
    {
     "data": {
      "text/plain": [
       "[HumanMessage(content='hi!', additional_kwargs={}, response_metadata={}, id='ac725874-727d-4693-9adc-1814c63bf0db'),\n",
       " AIMessage(content='Hello! How can I assist you today?', additional_kwargs={'refusal': None}, response_metadata={'token_usage': {'completion_tokens': 10, 'prompt_tokens': 81, 'total_tokens': 91, 'completion_tokens_details': {'accepted_prediction_tokens': 0, 'audio_tokens': 0, 'reasoning_tokens': 0, 'rejected_prediction_tokens': 0}, 'prompt_tokens_details': {'audio_tokens': 0, 'cached_tokens': 0}}, 'model_name': 'gpt-4o-mini', 'system_fingerprint': 'fp_f3927aa00d', 'finish_reason': 'stop', 'logprobs': None}, id='run-65e26757-1f13-4c5b-83ca-17f35cfc1649-0', usage_metadata={'input_tokens': 81, 'output_tokens': 10, 'total_tokens': 91, 'input_token_details': {'audio': 0, 'cache_read': 0}, 'output_token_details': {'audio': 0, 'reasoning': 0}})]"
      ]
     },
     "execution_count": 44,
     "metadata": {},
     "output_type": "execute_result"
    }
   ],
   "source": [
    "response = agent_executor.invoke({\"messages\": [HumanMessage(content=\"hi!\")]})\n",
    "\n",
    "response[\"messages\"]"
   ]
  },
  {
   "cell_type": "markdown",
   "id": "71493a42",
   "metadata": {},
   "source": [
    "In order to see exactly what is happening under the hood (and to make sure it's not calling a tool) we can take a look at the [LangSmith trace](https://smith.langchain.com/public/28311faa-e135-4d6a-ab6b-caecf6482aaa/r)\n",
    "\n",
    "Let's now try it out on an example where it should be invoking the tool"
   ]
  },
  {
   "cell_type": "code",
   "execution_count": 45,
   "id": "77c2f769",
   "metadata": {},
   "outputs": [
    {
     "data": {
      "text/plain": [
       "[HumanMessage(content='whats the weather in Beijing?', additional_kwargs={}, response_metadata={}, id='7e56bed4-32fb-4b70-b319-7f6a8c0c6fc3'),\n",
       " AIMessage(content='', additional_kwargs={'tool_calls': [{'id': 'call_xfCmwRdPAWFTBxolob07rRZK', 'function': {'arguments': '{\"query\":\"current weather in Beijing\"}', 'name': 'tavily_search_results_json'}, 'type': 'function'}], 'refusal': None}, response_metadata={'token_usage': {'completion_tokens': 21, 'prompt_tokens': 86, 'total_tokens': 107, 'completion_tokens_details': {'accepted_prediction_tokens': 0, 'audio_tokens': 0, 'reasoning_tokens': 0, 'rejected_prediction_tokens': 0}, 'prompt_tokens_details': {'audio_tokens': 0, 'cached_tokens': 0}}, 'model_name': 'gpt-4o-mini', 'system_fingerprint': 'fp_5154047bf2', 'finish_reason': 'tool_calls', 'logprobs': None}, id='run-f0961d43-2968-4cbe-86d3-54e9bfbd208a-0', tool_calls=[{'name': 'tavily_search_results_json', 'args': {'query': 'current weather in Beijing'}, 'id': 'call_xfCmwRdPAWFTBxolob07rRZK', 'type': 'tool_call'}], usage_metadata={'input_tokens': 86, 'output_tokens': 21, 'total_tokens': 107, 'input_token_details': {'audio': 0, 'cache_read': 0}, 'output_token_details': {'audio': 0, 'reasoning': 0}}),\n",
       " ToolMessage(content='[{\"url\": \"https://www.weatherapi.com/\", \"content\": \"{\\'location\\': {\\'name\\': \\'Beijing\\', \\'region\\': \\'Beijing\\', \\'country\\': \\'China\\', \\'lat\\': 39.9289, \\'lon\\': 116.3883, \\'tz_id\\': \\'Asia/Shanghai\\', \\'localtime_epoch\\': 1739114093, \\'localtime\\': \\'2025-02-09 23:14\\'}, \\'current\\': {\\'last_updated_epoch\\': 1739113200, \\'last_updated\\': \\'2025-02-09 23:00\\', \\'temp_c\\': -8.9, \\'temp_f\\': 16.0, \\'is_day\\': 0, \\'condition\\': {\\'text\\': \\'Clear\\', \\'icon\\': \\'//cdn.weatherapi.com/weather/64x64/night/113.png\\', \\'code\\': 1000}, \\'wind_mph\\': 2.2, \\'wind_kph\\': 3.6, \\'wind_degree\\': 237, \\'wind_dir\\': \\'WSW\\', \\'pressure_mb\\': 1026.0, \\'pressure_in\\': 30.3, \\'precip_mm\\': 0.0, \\'precip_in\\': 0.0, \\'humidity\\': 37, \\'cloud\\': 0, \\'feelslike_c\\': -10.7, \\'feelslike_f\\': 12.7, \\'windchill_c\\': -4.3, \\'windchill_f\\': 24.3, \\'heatindex_c\\': -4.3, \\'heatindex_f\\': 24.3, \\'dewpoint_c\\': -25.3, \\'dewpoint_f\\': -13.6, \\'vis_km\\': 10.0, \\'vis_miles\\': 6.0, \\'uv\\': 0.0, \\'gust_mph\\': 6.7, \\'gust_kph\\': 10.8}}\"}, {\"url\": \"https://www.weather25.com/asia/china/shanxi/beijing?page=month&month=February\", \"content\": \"Beijing weather in February 2025 | Beijing 14 day weather Beijing  Beijing Beijing weather in February 2025 🌨️ Snowy days in Beijing 2025 (February) The average weather in Beijing in February You can expect a few days of snow in Beijing during February. | Beijing in February | | Beijing in May | Temperatures in Beijing in February Weather in Beijing in February - FAQ The average temperature in Beijing in February is -3/5° C. On average, there are 1 rainy days in Beijing during February. The weather in Beijing in February is awful. On average, there are 3 snowy days in Beijing in February. More about the weather in Beijing\"}]', name='tavily_search_results_json', id='1a5ccf3d-ba5c-4237-841a-3839d650dfe7', tool_call_id='call_xfCmwRdPAWFTBxolob07rRZK', artifact={'query': 'current weather in Beijing', 'follow_up_questions': None, 'answer': None, 'images': [], 'results': [{'title': 'Weather in Beijing', 'url': 'https://www.weatherapi.com/', 'content': \"{'location': {'name': 'Beijing', 'region': 'Beijing', 'country': 'China', 'lat': 39.9289, 'lon': 116.3883, 'tz_id': 'Asia/Shanghai', 'localtime_epoch': 1739114093, 'localtime': '2025-02-09 23:14'}, 'current': {'last_updated_epoch': 1739113200, 'last_updated': '2025-02-09 23:00', 'temp_c': -8.9, 'temp_f': 16.0, 'is_day': 0, 'condition': {'text': 'Clear', 'icon': '//cdn.weatherapi.com/weather/64x64/night/113.png', 'code': 1000}, 'wind_mph': 2.2, 'wind_kph': 3.6, 'wind_degree': 237, 'wind_dir': 'WSW', 'pressure_mb': 1026.0, 'pressure_in': 30.3, 'precip_mm': 0.0, 'precip_in': 0.0, 'humidity': 37, 'cloud': 0, 'feelslike_c': -10.7, 'feelslike_f': 12.7, 'windchill_c': -4.3, 'windchill_f': 24.3, 'heatindex_c': -4.3, 'heatindex_f': 24.3, 'dewpoint_c': -25.3, 'dewpoint_f': -13.6, 'vis_km': 10.0, 'vis_miles': 6.0, 'uv': 0.0, 'gust_mph': 6.7, 'gust_kph': 10.8}}\", 'score': 0.8759609, 'raw_content': None}, {'url': 'https://www.weather25.com/asia/china/shanxi/beijing?page=month&month=February', 'title': 'Beijing weather in February 2025 - Weather25.com', 'content': 'Beijing weather in February 2025 | Beijing 14 day weather Beijing  Beijing Beijing weather in February 2025 🌨️ Snowy days in Beijing 2025 (February) The average weather in Beijing in February You can expect a few days of snow in Beijing during February. | Beijing in February | | Beijing in May | Temperatures in Beijing in February Weather in Beijing in February - FAQ The average temperature in Beijing in February is -3/5° C. On average, there are 1 rainy days in Beijing during February. The weather in Beijing in February is awful. On average, there are 3 snowy days in Beijing in February. More about the weather in Beijing', 'score': 0.8660535, 'raw_content': None}], 'response_time': 1.69}),\n",
       " AIMessage(content='The current weather in Beijing is as follows:\\n\\n- **Temperature:** -8.9°C (16.0°F)\\n- **Condition:** Clear\\n- **Wind:** 2.2 mph (3.6 kph) from the WSW\\n- **Humidity:** 37%\\n- **Dew Point:** -25.3°C\\n- **Visibility:** 10 km\\n- **Feels Like:** -10.7°C (12.7°F)\\n\\nFor more details, you can visit [Weather API](https://www.weatherapi.com/) or check [Weather25](https://www.weather25.com/asia/china/shanxi/beijing?page=month&month=February).', additional_kwargs={'refusal': None}, response_metadata={'token_usage': {'completion_tokens': 142, 'prompt_tokens': 692, 'total_tokens': 834, 'completion_tokens_details': {'accepted_prediction_tokens': 0, 'audio_tokens': 0, 'reasoning_tokens': 0, 'rejected_prediction_tokens': 0}, 'prompt_tokens_details': {'audio_tokens': 0, 'cached_tokens': 0}}, 'model_name': 'gpt-4o-mini', 'system_fingerprint': 'fp_f3927aa00d', 'finish_reason': 'stop', 'logprobs': None}, id='run-c7c2c3fa-cfec-4df2-bb8c-4ccd9334dbaf-0', usage_metadata={'input_tokens': 692, 'output_tokens': 142, 'total_tokens': 834, 'input_token_details': {'audio': 0, 'cache_read': 0}, 'output_token_details': {'audio': 0, 'reasoning': 0}})]"
      ]
     },
     "execution_count": 45,
     "metadata": {},
     "output_type": "execute_result"
    }
   ],
   "source": [
    "response = agent_executor.invoke(\n",
    "    {\"messages\": [HumanMessage(content=\"whats the weather in Beijing?\")]}\n",
    ")\n",
    "response[\"messages\"]"
   ]
  },
  {
   "cell_type": "markdown",
   "id": "c174f838",
   "metadata": {},
   "source": [
    "We can check out the [LangSmith trace](https://smith.langchain.com/public/f520839d-cd4d-4495-8764-e32b548e235d/r) to make sure it's calling the search tool effectively."
   ]
  },
  {
   "cell_type": "markdown",
   "id": "8f6ca7e4",
   "metadata": {},
   "source": [
    "## Streaming Messages\n",
    "\n",
    "We've seen how the agent can be called with `.invoke` to get  a final response. If the agent executes multiple steps, this may take a while. To show intermediate progress, we can stream back messages as they occur."
   ]
  },
  {
   "cell_type": "code",
   "execution_count": 46,
   "id": "532d6557",
   "metadata": {},
   "outputs": [
    {
     "name": "stdout",
     "output_type": "stream",
     "text": [
      "{'agent': {'messages': [AIMessage(content='', additional_kwargs={'tool_calls': [{'id': 'call_aIrbgIMryNrVRGRKgGhuzniW', 'function': {'arguments': '{\"query\":\"current weather in Beijing\"}', 'name': 'tavily_search_results_json'}, 'type': 'function'}], 'refusal': None}, response_metadata={'token_usage': {'completion_tokens': 21, 'prompt_tokens': 86, 'total_tokens': 107, 'completion_tokens_details': {'accepted_prediction_tokens': 0, 'audio_tokens': 0, 'reasoning_tokens': 0, 'rejected_prediction_tokens': 0}, 'prompt_tokens_details': {'audio_tokens': 0, 'cached_tokens': 0}}, 'model_name': 'gpt-4o-mini', 'system_fingerprint': 'fp_f3927aa00d', 'finish_reason': 'tool_calls', 'logprobs': None}, id='run-2972240a-c587-413a-af74-51a05909fef2-0', tool_calls=[{'name': 'tavily_search_results_json', 'args': {'query': 'current weather in Beijing'}, 'id': 'call_aIrbgIMryNrVRGRKgGhuzniW', 'type': 'tool_call'}], usage_metadata={'input_tokens': 86, 'output_tokens': 21, 'total_tokens': 107, 'input_token_details': {'audio': 0, 'cache_read': 0}, 'output_token_details': {'audio': 0, 'reasoning': 0}})]}}\n",
      "----\n",
      "{'tools': {'messages': [ToolMessage(content='[{\"url\": \"https://www.weatherapi.com/\", \"content\": \"{\\'location\\': {\\'name\\': \\'Beijing\\', \\'region\\': \\'Beijing\\', \\'country\\': \\'China\\', \\'lat\\': 39.9289, \\'lon\\': 116.3883, \\'tz_id\\': \\'Asia/Shanghai\\', \\'localtime_epoch\\': 1739114093, \\'localtime\\': \\'2025-02-09 23:14\\'}, \\'current\\': {\\'last_updated_epoch\\': 1739113200, \\'last_updated\\': \\'2025-02-09 23:00\\', \\'temp_c\\': -8.9, \\'temp_f\\': 16.0, \\'is_day\\': 0, \\'condition\\': {\\'text\\': \\'Clear\\', \\'icon\\': \\'//cdn.weatherapi.com/weather/64x64/night/113.png\\', \\'code\\': 1000}, \\'wind_mph\\': 2.2, \\'wind_kph\\': 3.6, \\'wind_degree\\': 237, \\'wind_dir\\': \\'WSW\\', \\'pressure_mb\\': 1026.0, \\'pressure_in\\': 30.3, \\'precip_mm\\': 0.0, \\'precip_in\\': 0.0, \\'humidity\\': 37, \\'cloud\\': 0, \\'feelslike_c\\': -10.7, \\'feelslike_f\\': 12.7, \\'windchill_c\\': -4.3, \\'windchill_f\\': 24.3, \\'heatindex_c\\': -4.3, \\'heatindex_f\\': 24.3, \\'dewpoint_c\\': -25.3, \\'dewpoint_f\\': -13.6, \\'vis_km\\': 10.0, \\'vis_miles\\': 6.0, \\'uv\\': 0.0, \\'gust_mph\\': 6.7, \\'gust_kph\\': 10.8}}\"}, {\"url\": \"https://www.weather25.com/asia/china/shanxi/beijing?page=month&month=February\", \"content\": \"Beijing weather in February 2025 | Beijing 14 day weather Beijing  Beijing Beijing weather in February 2025 🌨️ Snowy days in Beijing 2025 (February) The average weather in Beijing in February You can expect a few days of snow in Beijing during February. | Beijing in February | | Beijing in May | Temperatures in Beijing in February Weather in Beijing in February - FAQ The average temperature in Beijing in February is -3/5° C. On average, there are 1 rainy days in Beijing during February. The weather in Beijing in February is awful. On average, there are 3 snowy days in Beijing in February. More about the weather in Beijing\"}]', name='tavily_search_results_json', id='1f018d46-d660-4047-a6f7-c31be030040a', tool_call_id='call_aIrbgIMryNrVRGRKgGhuzniW', artifact={'query': 'current weather in Beijing', 'follow_up_questions': None, 'answer': None, 'images': [], 'results': [{'title': 'Weather in Beijing', 'url': 'https://www.weatherapi.com/', 'content': \"{'location': {'name': 'Beijing', 'region': 'Beijing', 'country': 'China', 'lat': 39.9289, 'lon': 116.3883, 'tz_id': 'Asia/Shanghai', 'localtime_epoch': 1739114093, 'localtime': '2025-02-09 23:14'}, 'current': {'last_updated_epoch': 1739113200, 'last_updated': '2025-02-09 23:00', 'temp_c': -8.9, 'temp_f': 16.0, 'is_day': 0, 'condition': {'text': 'Clear', 'icon': '//cdn.weatherapi.com/weather/64x64/night/113.png', 'code': 1000}, 'wind_mph': 2.2, 'wind_kph': 3.6, 'wind_degree': 237, 'wind_dir': 'WSW', 'pressure_mb': 1026.0, 'pressure_in': 30.3, 'precip_mm': 0.0, 'precip_in': 0.0, 'humidity': 37, 'cloud': 0, 'feelslike_c': -10.7, 'feelslike_f': 12.7, 'windchill_c': -4.3, 'windchill_f': 24.3, 'heatindex_c': -4.3, 'heatindex_f': 24.3, 'dewpoint_c': -25.3, 'dewpoint_f': -13.6, 'vis_km': 10.0, 'vis_miles': 6.0, 'uv': 0.0, 'gust_mph': 6.7, 'gust_kph': 10.8}}\", 'score': 0.8759609, 'raw_content': None}, {'url': 'https://www.weather25.com/asia/china/shanxi/beijing?page=month&month=February', 'title': 'Beijing weather in February 2025 - Weather25.com', 'content': 'Beijing weather in February 2025 | Beijing 14 day weather Beijing  Beijing Beijing weather in February 2025 🌨️ Snowy days in Beijing 2025 (February) The average weather in Beijing in February You can expect a few days of snow in Beijing during February. | Beijing in February | | Beijing in May | Temperatures in Beijing in February Weather in Beijing in February - FAQ The average temperature in Beijing in February is -3/5° C. On average, there are 1 rainy days in Beijing during February. The weather in Beijing in February is awful. On average, there are 3 snowy days in Beijing in February. More about the weather in Beijing', 'score': 0.8660535, 'raw_content': None}], 'response_time': 1.94})]}}\n",
      "----\n",
      "{'agent': {'messages': [AIMessage(content='The current weather in Beijing is as follows:\\n\\n- **Temperature**: -8.9°C (16.0°F)\\n- **Condition**: Clear\\n- **Wind**: 2.2 mph (3.6 kph) from the WSW\\n- **Humidity**: 37%\\n- **Feels Like**: -10.7°C (12.7°F)\\n- **Visibility**: 10 km\\n\\nYou can check more details on [WeatherAPI](https://www.weatherapi.com/).', additional_kwargs={'refusal': None}, response_metadata={'token_usage': {'completion_tokens': 107, 'prompt_tokens': 692, 'total_tokens': 799, 'completion_tokens_details': {'accepted_prediction_tokens': 0, 'audio_tokens': 0, 'reasoning_tokens': 0, 'rejected_prediction_tokens': 0}, 'prompt_tokens_details': {'audio_tokens': 0, 'cached_tokens': 0}}, 'model_name': 'gpt-4o-mini', 'system_fingerprint': 'fp_f3927aa00d', 'finish_reason': 'stop', 'logprobs': None}, id='run-5dc88685-fc9b-4c64-8441-54f1c5a633f6-0', usage_metadata={'input_tokens': 692, 'output_tokens': 107, 'total_tokens': 799, 'input_token_details': {'audio': 0, 'cache_read': 0}, 'output_token_details': {'audio': 0, 'reasoning': 0}})]}}\n",
      "----\n"
     ]
    }
   ],
   "source": [
    "for chunk in agent_executor.stream(\n",
    "    {\"messages\": [HumanMessage(content=\"whats the weather in Beijing?\")]}\n",
    "):\n",
    "    print(chunk)\n",
    "    print(\"----\")"
   ]
  },
  {
   "cell_type": "markdown",
   "id": "c72b3043",
   "metadata": {},
   "source": [
    "## Streaming tokens\n",
    "\n",
    "In addition to streaming back messages, it is also useful to stream back tokens.\n",
    "We can do this with the `.astream_events` method.\n",
    "\n",
    ":::important\n",
    "This `.astream_events` method only works with Python 3.11 or higher.\n",
    ":::"
   ]
  },
  {
   "cell_type": "code",
   "execution_count": 47,
   "id": "a3fb262c",
   "metadata": {},
   "outputs": [
    {
     "name": "stdout",
     "output_type": "stream",
     "text": [
      "--\n",
      "Starting tool: tavily_search_results_json with inputs: {'query': 'current weather in Beijing'}\n",
      "Done tool: tavily_search_results_json\n",
      "Tool output was: content='[{\"url\": \"https://www.weatherapi.com/\", \"content\": \"{\\'location\\': {\\'name\\': \\'Beijing\\', \\'region\\': \\'Beijing\\', \\'country\\': \\'China\\', \\'lat\\': 39.9289, \\'lon\\': 116.3883, \\'tz_id\\': \\'Asia/Shanghai\\', \\'localtime_epoch\\': 1739114093, \\'localtime\\': \\'2025-02-09 23:14\\'}, \\'current\\': {\\'last_updated_epoch\\': 1739113200, \\'last_updated\\': \\'2025-02-09 23:00\\', \\'temp_c\\': -8.9, \\'temp_f\\': 16.0, \\'is_day\\': 0, \\'condition\\': {\\'text\\': \\'Clear\\', \\'icon\\': \\'//cdn.weatherapi.com/weather/64x64/night/113.png\\', \\'code\\': 1000}, \\'wind_mph\\': 2.2, \\'wind_kph\\': 3.6, \\'wind_degree\\': 237, \\'wind_dir\\': \\'WSW\\', \\'pressure_mb\\': 1026.0, \\'pressure_in\\': 30.3, \\'precip_mm\\': 0.0, \\'precip_in\\': 0.0, \\'humidity\\': 37, \\'cloud\\': 0, \\'feelslike_c\\': -10.7, \\'feelslike_f\\': 12.7, \\'windchill_c\\': -4.3, \\'windchill_f\\': 24.3, \\'heatindex_c\\': -4.3, \\'heatindex_f\\': 24.3, \\'dewpoint_c\\': -25.3, \\'dewpoint_f\\': -13.6, \\'vis_km\\': 10.0, \\'vis_miles\\': 6.0, \\'uv\\': 0.0, \\'gust_mph\\': 6.7, \\'gust_kph\\': 10.8}}\"}, {\"url\": \"https://www.weather25.com/asia/china/shanxi/beijing?page=month&month=February\", \"content\": \"Beijing weather in February 2025 | Beijing 14 day weather Beijing  Beijing Beijing weather in February 2025 🌨️ Snowy days in Beijing 2025 (February) The average weather in Beijing in February You can expect a few days of snow in Beijing during February. | Beijing in February | | Beijing in May | Temperatures in Beijing in February Weather in Beijing in February - FAQ The average temperature in Beijing in February is -3/5° C. On average, there are 1 rainy days in Beijing during February. The weather in Beijing in February is awful. On average, there are 3 snowy days in Beijing in February. More about the weather in Beijing\"}]' name='tavily_search_results_json' tool_call_id='call_uiwIs8Ot7los8YV7h8M3bH8S' artifact={'query': 'current weather in Beijing', 'follow_up_questions': None, 'answer': None, 'images': [], 'results': [{'title': 'Weather in Beijing', 'url': 'https://www.weatherapi.com/', 'content': \"{'location': {'name': 'Beijing', 'region': 'Beijing', 'country': 'China', 'lat': 39.9289, 'lon': 116.3883, 'tz_id': 'Asia/Shanghai', 'localtime_epoch': 1739114093, 'localtime': '2025-02-09 23:14'}, 'current': {'last_updated_epoch': 1739113200, 'last_updated': '2025-02-09 23:00', 'temp_c': -8.9, 'temp_f': 16.0, 'is_day': 0, 'condition': {'text': 'Clear', 'icon': '//cdn.weatherapi.com/weather/64x64/night/113.png', 'code': 1000}, 'wind_mph': 2.2, 'wind_kph': 3.6, 'wind_degree': 237, 'wind_dir': 'WSW', 'pressure_mb': 1026.0, 'pressure_in': 30.3, 'precip_mm': 0.0, 'precip_in': 0.0, 'humidity': 37, 'cloud': 0, 'feelslike_c': -10.7, 'feelslike_f': 12.7, 'windchill_c': -4.3, 'windchill_f': 24.3, 'heatindex_c': -4.3, 'heatindex_f': 24.3, 'dewpoint_c': -25.3, 'dewpoint_f': -13.6, 'vis_km': 10.0, 'vis_miles': 6.0, 'uv': 0.0, 'gust_mph': 6.7, 'gust_kph': 10.8}}\", 'score': 0.8759609, 'raw_content': None}, {'url': 'https://www.weather25.com/asia/china/shanxi/beijing?page=month&month=February', 'title': 'Beijing weather in February 2025 - Weather25.com', 'content': 'Beijing weather in February 2025 | Beijing 14 day weather Beijing  Beijing Beijing weather in February 2025 🌨️ Snowy days in Beijing 2025 (February) The average weather in Beijing in February You can expect a few days of snow in Beijing during February. | Beijing in February | | Beijing in May | Temperatures in Beijing in February Weather in Beijing in February - FAQ The average temperature in Beijing in February is -3/5° C. On average, there are 1 rainy days in Beijing during February. The weather in Beijing in February is awful. On average, there are 3 snowy days in Beijing in February. More about the weather in Beijing', 'score': 0.8660535, 'raw_content': None}], 'response_time': 1.62}\n",
      "--\n",
      "The| current| weather| in| Beijing| is| -|8|.|9|°C| (|16|°F|)| with| clear| skies|.| Here| are| some| additional| details|:\n",
      "\n",
      "|-| **|Feels| Like|**|:| -|10|.|7|°C| (|12|.|7|°F|)\n",
      "|-| **|Humidity|**|:| |37|%\n",
      "|-| **|Wind|**|:| |2|.|2| mph| (|3|.|6| k|ph|)| from| the| W|SW|\n",
      "|-| **|Visibility|**|:| |10| km|\n",
      "|-| **|Pressure|**|:| |102|6| mb|\n",
      "|-| **|Last| Updated|**|:| February| |9|,| |202|5|,| at| |23|:|00| local| time|\n",
      "\n",
      "|You| can| check| more| detailed| weather| information| on| sites| like| [|Weather| API|](|https|://|www|.weather|api|.com|/)| or| [|Weather|25|](|https|://|www|.weather|25|.com|/|asia|/ch|ina|/sh|an|xi|/be|ijing|?page|=|month|&|month|=|February|).|"
     ]
    }
   ],
   "source": [
    "async for event in agent_executor.astream_events(\n",
    "    {\"messages\": [HumanMessage(content=\"whats the weather in Beijing?\")]}, version=\"v1\"\n",
    "):\n",
    "    kind = event[\"event\"]\n",
    "    if kind == \"on_chain_start\":\n",
    "        if (\n",
    "            event[\"name\"] == \"Agent\"\n",
    "        ):  # Was assigned when creating the agent with `.with_config({\"run_name\": \"Agent\"})`\n",
    "            print(\n",
    "                f\"Starting agent: {event['name']} with input: {event['data'].get('input')}\"\n",
    "            )\n",
    "    elif kind == \"on_chain_end\":\n",
    "        if (\n",
    "            event[\"name\"] == \"Agent\"\n",
    "        ):  # Was assigned when creating the agent with `.with_config({\"run_name\": \"Agent\"})`\n",
    "            print()\n",
    "            print(\"--\")\n",
    "            print(\n",
    "                f\"Done agent: {event['name']} with output: {event['data'].get('output')['output']}\"\n",
    "            )\n",
    "    if kind == \"on_chat_model_stream\":\n",
    "        content = event[\"data\"][\"chunk\"].content\n",
    "        if content:\n",
    "            # Empty content in the context of OpenAI means\n",
    "            # that the model is asking for a tool to be invoked.\n",
    "            # So we only print non-empty content\n",
    "            print(content, end=\"|\")\n",
    "    elif kind == \"on_tool_start\":\n",
    "        print(\"--\")\n",
    "        print(\n",
    "            f\"Starting tool: {event['name']} with inputs: {event['data'].get('input')}\"\n",
    "        )\n",
    "    elif kind == \"on_tool_end\":\n",
    "        print(f\"Done tool: {event['name']}\")\n",
    "        print(f\"Tool output was: {event['data'].get('output')}\")\n",
    "        print(\"--\")"
   ]
  },
  {
   "cell_type": "markdown",
   "id": "022cbc8a",
   "metadata": {},
   "source": [
    "## Adding in memory\n",
    "\n",
    "As mentioned earlier, this agent is stateless. This means it does not remember previous interactions. To give it memory we need to pass in a checkpointer. When passing in a checkpointer, we also have to pass in a `thread_id` when invoking the agent (so it knows which thread/conversation to resume from)."
   ]
  },
  {
   "cell_type": "code",
   "execution_count": 48,
   "id": "c4073e35",
   "metadata": {},
   "outputs": [],
   "source": [
    "from langgraph.checkpoint.memory import MemorySaver\n",
    "\n",
    "memory = MemorySaver()"
   ]
  },
  {
   "cell_type": "code",
   "execution_count": 49,
   "id": "e64a944e-f9ac-43cf-903c-d3d28d765377",
   "metadata": {},
   "outputs": [],
   "source": [
    "agent_executor = create_react_agent(model, tools, checkpointer=memory)\n",
    "\n",
    "config = {\"configurable\": {\"thread_id\": \"abc123\"}}"
   ]
  },
  {
   "cell_type": "code",
   "execution_count": 50,
   "id": "a13462d0-2d02-4474-921e-15a1ba1fa274",
   "metadata": {},
   "outputs": [
    {
     "name": "stdout",
     "output_type": "stream",
     "text": [
      "{'agent': {'messages': [AIMessage(content='Hi Cheng! How can I assist you today?', additional_kwargs={'refusal': None}, response_metadata={'token_usage': {'completion_tokens': 11, 'prompt_tokens': 83, 'total_tokens': 94, 'completion_tokens_details': {'accepted_prediction_tokens': 0, 'audio_tokens': 0, 'reasoning_tokens': 0, 'rejected_prediction_tokens': 0}, 'prompt_tokens_details': {'audio_tokens': 0, 'cached_tokens': 0}}, 'model_name': 'gpt-4o-mini', 'system_fingerprint': 'fp_f3927aa00d', 'finish_reason': 'stop', 'logprobs': None}, id='run-39be6827-511f-4b20-a993-ac8dc70a8747-0', usage_metadata={'input_tokens': 83, 'output_tokens': 11, 'total_tokens': 94, 'input_token_details': {'audio': 0, 'cache_read': 0}, 'output_token_details': {'audio': 0, 'reasoning': 0}})]}}\n",
      "----\n"
     ]
    }
   ],
   "source": [
    "for chunk in agent_executor.stream(\n",
    "    {\"messages\": [HumanMessage(content=\"hi im Cheng!\")]}, config\n",
    "):\n",
    "    print(chunk)\n",
    "    print(\"----\")"
   ]
  },
  {
   "cell_type": "code",
   "execution_count": 51,
   "id": "56d8028b-5dbc-40b2-86f5-ed60631d86a3",
   "metadata": {},
   "outputs": [
    {
     "name": "stdout",
     "output_type": "stream",
     "text": [
      "{'agent': {'messages': [AIMessage(content='Your name is Cheng!', additional_kwargs={'refusal': None}, response_metadata={'token_usage': {'completion_tokens': 6, 'prompt_tokens': 106, 'total_tokens': 112, 'completion_tokens_details': {'accepted_prediction_tokens': 0, 'audio_tokens': 0, 'reasoning_tokens': 0, 'rejected_prediction_tokens': 0}, 'prompt_tokens_details': {'audio_tokens': 0, 'cached_tokens': 0}}, 'model_name': 'gpt-4o-mini', 'system_fingerprint': 'fp_f3927aa00d', 'finish_reason': 'stop', 'logprobs': None}, id='run-44335a94-34e5-4e84-ba99-cf967dd64284-0', usage_metadata={'input_tokens': 106, 'output_tokens': 6, 'total_tokens': 112, 'input_token_details': {'audio': 0, 'cache_read': 0}, 'output_token_details': {'audio': 0, 'reasoning': 0}})]}}\n",
      "----\n"
     ]
    }
   ],
   "source": [
    "for chunk in agent_executor.stream(\n",
    "    {\"messages\": [HumanMessage(content=\"whats my name?\")]}, config\n",
    "):\n",
    "    print(chunk)\n",
    "    print(\"----\")"
   ]
  },
  {
   "cell_type": "markdown",
   "id": "bda99754-0a11-4447-b408-e8db8f2e3517",
   "metadata": {},
   "source": [
    "Example [LangSmith trace](https://smith.langchain.com/public/fa73960b-0f7d-4910-b73d-757a12f33b2b/r)"
   ]
  },
  {
   "cell_type": "markdown",
   "id": "ae908088",
   "metadata": {},
   "source": [
    "If you want to start a new conversation, all you have to do is change the `thread_id` used"
   ]
  },
  {
   "cell_type": "code",
   "execution_count": 52,
   "id": "24460239",
   "metadata": {},
   "outputs": [
    {
     "name": "stdout",
     "output_type": "stream",
     "text": [
      "{'agent': {'messages': [AIMessage(content=\"I don't have access to personal data about users unless it's shared with me in the course of our conversation. Therefore, I don't know your name. If you'd like me to address you by a specific name, please let me know!\", additional_kwargs={'refusal': None}, response_metadata={'token_usage': {'completion_tokens': 47, 'prompt_tokens': 84, 'total_tokens': 131, 'completion_tokens_details': {'accepted_prediction_tokens': 0, 'audio_tokens': 0, 'reasoning_tokens': 0, 'rejected_prediction_tokens': 0}, 'prompt_tokens_details': {'audio_tokens': 0, 'cached_tokens': 0}}, 'model_name': 'gpt-4o-mini', 'system_fingerprint': 'fp_f3927aa00d', 'finish_reason': 'stop', 'logprobs': None}, id='run-02a59007-fb9f-41bd-8bce-3abaafbe1df9-0', usage_metadata={'input_tokens': 84, 'output_tokens': 47, 'total_tokens': 131, 'input_token_details': {'audio': 0, 'cache_read': 0}, 'output_token_details': {'audio': 0, 'reasoning': 0}})]}}\n",
      "----\n"
     ]
    }
   ],
   "source": [
    "config = {\"configurable\": {\"thread_id\": \"xyz123\"}}\n",
    "for chunk in agent_executor.stream(\n",
    "    {\"messages\": [HumanMessage(content=\"whats my name?\")]}, config\n",
    "):\n",
    "    print(chunk)\n",
    "    print(\"----\")"
   ]
  },
  {
   "cell_type": "markdown",
   "id": "c029798f",
   "metadata": {},
   "source": [
    "## Conclusion\n",
    "\n",
    "That's a wrap! In this quick start we covered how to create a simple agent. \n",
    "We've then shown how to stream back a response - not only with the intermediate steps, but also tokens!\n",
    "We've also added in memory so you can have a conversation with them.\n",
    "Agents are a complex topic with lots to learn! \n",
    "\n",
    "For more information on Agents, please check out the [LangGraph](/docs/concepts/architecture/#langgraph) documentation. This has it's own set of concepts, tutorials, and how-to guides."
   ]
  },
  {
   "cell_type": "code",
   "execution_count": null,
   "id": "e3ec3244",
   "metadata": {},
   "outputs": [],
   "source": []
  }
 ],
 "metadata": {
  "kernelspec": {
   "display_name": ".venv",
   "language": "python",
   "name": "python3"
  },
  "language_info": {
   "codemirror_mode": {
    "name": "ipython",
    "version": 3
   },
   "file_extension": ".py",
   "mimetype": "text/x-python",
   "name": "python",
   "nbconvert_exporter": "python",
   "pygments_lexer": "ipython3",
   "version": "3.13.1"
  }
 },
 "nbformat": 4,
 "nbformat_minor": 5
}
