{
 "cells": [
  {
   "cell_type": "markdown",
   "metadata": {},
   "source": [
    "# CSP 586 Lab 01\n",
    "\n",
    "## Goal\n",
    "Create an environment for LLM Agent Programming. \n",
    "\n",
    "> The lab in course is using OpenAI and ChanGraph, but we are using DeepSeek instead > of them, due to the barries in China mainlaind and OpenAI.\n",
    "\n",
    "## Steps\n",
    "\n",
    "### Step 01 Create Python Virtual Envrionemnt\n",
    "1. Download and install `python` and `pip` on MacOS\n",
    "2. Navigate to lab folder in terminal\n",
    "3. Create virtual environment for lab.\n",
    "```python\n",
    "python3 -m venv venv-deepseek\n",
    "source venv-deepseek/bin/activate\n",
    "(venv-deepseek)python3 -m pip install uv \n",
    "(venv-deepseek)uv pip install requests openai httpx python-dotenv\n",
    "```\n",
    "4. Download lab notebook from course site.\n",
    "5. Set API Key for environment\n",
    "6. Open and run the notebook downloaded in step #4.\n",
    "\n",
    "\n"
   ]
  }
 ],
 "metadata": {
  "kernelspec": {
   "display_name": "venv-deepseek",
   "language": "python",
   "name": "python3"
  },
  "language_info": {
   "name": "python",
   "version": "3.13.1"
  }
 },
 "nbformat": 4,
 "nbformat_minor": 2
}
